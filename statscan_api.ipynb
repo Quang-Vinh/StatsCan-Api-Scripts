{
 "cells": [
  {
   "cell_type": "code",
   "execution_count": 57,
   "metadata": {},
   "outputs": [],
   "source": [
    "from datetime import date\n",
    "import os\n",
    "import requests\n",
    "import zipfile"
   ]
  },
  {
   "cell_type": "markdown",
   "metadata": {},
   "source": [
    "## Purpose"
   ]
  },
  {
   "cell_type": "markdown",
   "metadata": {},
   "source": [
    "Develop an approach to call StatsCan API https://www.statcan.gc.ca/eng/developers/wds/user-guide  to download tables and be notified when changes have been made."
   ]
  },
  {
   "cell_type": "code",
   "execution_count": 2,
   "metadata": {},
   "outputs": [],
   "source": [
    "# Base url to StatsCan API\n",
    "\n",
    "base_url = 'https://www150.statcan.gc.ca/t1/wds/rest/'"
   ]
  },
  {
   "cell_type": "code",
   "execution_count": 11,
   "metadata": {},
   "outputs": [],
   "source": [
    "# Get changed tables list\n",
    "\n",
    "current_date = str(date.today())\n",
    "url = base_url + f'getChangedCubeList/{current_date}'\n",
    "\n",
    "response = requests.get(url)\n",
    "results = response.json()['object']"
   ]
  },
  {
   "cell_type": "code",
   "execution_count": 49,
   "metadata": {},
   "outputs": [],
   "source": [
    "# Download a zip file from a url\n",
    "def download_url(url, save_path, chunk_size=128):\n",
    "    r = requests.get(url, stream=True)\n",
    "    with open(save_path, 'wb') as fd:\n",
    "        for chunk in r.iter_content(chunk_size=chunk_size):\n",
    "            fd.write(chunk)\n",
    "\n",
    "# Download table from given product id\n",
    "def download_table(productId: str):\n",
    "    # Get changed table url\n",
    "    url = base_url + f\"getFullTableDownloadCSV/{productId}/en\"\n",
    "    response = requests.get(url)\n",
    "    table_url = response.json()['object']\n",
    "\n",
    "    # Download table csv\n",
    "    download_path = f'data/{productId}.zip'\n",
    "    download_url(url=table_url, save_path=download_path)\n",
    "\n",
    "    # Unzip folder\n",
    "    unzip_path = f'data/{productId}'\n",
    "    with zipfile.ZipFile(download_path, 'r') as zip_ref:\n",
    "        zip_ref.extractall(unzip_path)\n",
    "\n",
    "    # Delete zip folder\n",
    "    os.remove(download_path)"
   ]
  },
  {
   "cell_type": "code",
   "execution_count": 66,
   "metadata": {},
   "outputs": [
    {
     "output_type": "stream",
     "name": "stdout",
     "text": "Wall time: 1min 32s\n"
    }
   ],
   "source": [
    "%%time\n",
    "for result in results:\n",
    "    download_table(result['productId'])"
   ]
  }
 ],
 "metadata": {
  "language_info": {
   "codemirror_mode": {
    "name": "ipython",
    "version": 3
   },
   "file_extension": ".py",
   "mimetype": "text/x-python",
   "name": "python",
   "nbconvert_exporter": "python",
   "pygments_lexer": "ipython3",
   "version": "3.7.6-final"
  },
  "orig_nbformat": 2,
  "kernelspec": {
   "name": "python37664bitbasecondadae772729ccb43b384ffe27898f4220f",
   "display_name": "Python 3.7.6 64-bit ('base': conda)"
  }
 },
 "nbformat": 4,
 "nbformat_minor": 2
}